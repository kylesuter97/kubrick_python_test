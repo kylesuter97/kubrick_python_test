{
 "cells": [
  {
   "cell_type": "markdown",
   "id": "a458a3e0",
   "metadata": {},
   "source": [
    "\n",
    " # Instructions:\n",
    "- Please enter (and check!) your name and email address in the `get_consultant_name` function, just below this text.\n",
    "- Please enter in your answers 1-11 in the code cells starting with `# submit` by replacing the `pass` statement.\n",
    "- You can use code cells below the `# submit` cell for each question to work out your solutions and test (call) your functions/classes. We won't use these for marking. \n",
    "- Alternatively, you can use another notebook to come up with your function/class and then paste the function into the `# submit` cell in this notebook.\n",
    "- Before you submit your file, please *restart your kernel*, and then run all cells from the top, \n",
    "making sure that there are no errors or unhandled exceptions. \n",
    "(Please handle, comment out, or delete, any source code that raises an Exception)\n",
    "- If this paper is being taken under test conditions, then:\n",
    "    - Normally **three hours** is allowed to complete all questions. \n",
    "    - Your best 10 answers count, i.e. you receive a mark out of 50, scaled to a percentage.\n",
    "    - Normally this is an 'open book' test, i.e. access to your notes and on-line resources is allowed.\n",
    "    - Please ensure that this is only your own work: DO NOT ACCEPT HELP FROM OTHERS (OR GIVE IT!).\n"
   ]
  },
  {
   "cell_type": "code",
   "execution_count": null,
   "id": "3957bbd0",
   "metadata": {},
   "outputs": [],
   "source": [
    "\n",
    "def get_consultant_name():\n",
    "    first_name = 'your first name goes here'\n",
    "    last_name = 'your last name goes here'\n",
    "    email = 'your email address goes here'\n",
    "    return first_name, last_name, email\n"
   ]
  },
  {
   "cell_type": "markdown",
   "id": "daaaaef6",
   "metadata": {},
   "source": [
    "1. Split Odd and Even Elements\n",
    "-------------------------------\n",
    "Write a function that accepts a single input argument (`input_list`) and returns a tuple of two lists. \n",
    "        The first list in the tuple should contain the odd integers present in the input list. \n",
    "        The second list should contain the even integers present in the input list. \n",
    "        Non-integer elements (including bools) of the input list should not be included in either output list. \n",
    "        \n",
    "\n",
    "\n",
    "Required Signature:\n",
    "\n",
    "    def split_odd_even(input_list):  \n",
    "        pass  \n",
    "\n",
    "for example, calling `split_odd_even([5, 4, 3, 2, 1])` will return `([5,3,1], [4,2])`\n",
    "\n",
    "for example, calling `split_odd_even([True, False, 'Hello', [1,2,3], 0, 1])` will return `([1], [0])`\n",
    "\n"
   ]
  },
  {
   "cell_type": "code",
   "execution_count": null,
   "id": "e4155088",
   "metadata": {},
   "outputs": [],
   "source": [
    "# submit (DO NOT REMOVE THESE COMMENTS. REPLACE THE PASS STATEMENT WITH YOUR SOLUTION)\n",
    "# ------------------------------------------------------------------------------\n",
    "def split_odd_even(input_list):  \n",
    "    pass  \n",
    "\n",
    "\n",
    "\n",
    "\n"
   ]
  },
  {
   "cell_type": "markdown",
   "id": "d31a72c9",
   "metadata": {},
   "source": [
    "\n",
    "> <span style='color: #0072B2'>**Note**</span>  \n",
    "> You can use the space below (create additional cells as necessary) to work out your solution. These won't be marked.\n"
   ]
  },
  {
   "cell_type": "code",
   "execution_count": null,
   "id": "25409b88",
   "metadata": {},
   "outputs": [],
   "source": [
    "\n",
    "\n",
    "\n",
    "\n"
   ]
  },
  {
   "cell_type": "markdown",
   "id": "523df0b1",
   "metadata": {},
   "source": [
    "2. Flatten List\n",
    "-------------------------------\n",
    "Write a function that accepts a single input argument `input_list` and returns a list. \n",
    "The elements in the input list are either integers, or sub-lists containing integers. \n",
    "The output list should contain all the integers in a single list, \n",
    "in the same order as originally presented. (4 marks)\n",
    "\n",
    "For one further mark, allow sub-lists to also contain sub-lists themselves, in addition to integers. \n",
    "The output is still expected to be a single list containing only the integers, \n",
    "in the same order as originally presented.\n",
    "\n",
    "\n",
    "\n",
    "\n",
    "Required Signature:\n",
    "\n",
    "    def flatten_list(input_list):  \n",
    "        pass  \n",
    "\n",
    "for example, calling `flatten_list([5, [4, 3, 2], 1])` \n",
    " will return `[5, 4, 3, 2, 1]` (4 marks)\n",
    "\n",
    "for example, calling `flatten_list([1, 2, [3, [[4, 5]]], 6, 7, 8])` \n",
    " will return `[1, 2, 3, 4, 5, 6, 7, 8]` (1 mark)\n",
    "\n"
   ]
  },
  {
   "cell_type": "code",
   "execution_count": null,
   "id": "c15441da",
   "metadata": {},
   "outputs": [],
   "source": [
    "# submit (DO NOT REMOVE THESE COMMENTS. REPLACE THE PASS STATEMENT WITH YOUR SOLUTION)\n",
    "# ------------------------------------------------------------------------------\n",
    "def flatten_list(input_list):  \n",
    "    pass  \n",
    "\n",
    "\n",
    "\n",
    "\n"
   ]
  },
  {
   "cell_type": "markdown",
   "id": "27d6f846",
   "metadata": {},
   "source": [
    "\n",
    "> <span style='color: #0072B2'>**Note**</span>  \n",
    "> You can use the space below (create additional cells as necessary) to work out your solution. These won't be marked.\n"
   ]
  },
  {
   "cell_type": "code",
   "execution_count": null,
   "id": "35e3083c",
   "metadata": {},
   "outputs": [],
   "source": [
    "\n",
    "\n",
    "\n",
    "\n"
   ]
  },
  {
   "cell_type": "markdown",
   "id": "da8ac1db",
   "metadata": {},
   "source": [
    "3. Palindrome Numbers (1)\n",
    "-------------------------------\n",
    "A palindrome number is a number that remains the same when the digits are reversed, e.g. 3, 121, 14641 etc.\n",
    "Write a function that takes a list of elements `input_list` as an input and return another list that contains `True` for palindrome numbers in the list, \n",
    "`False` for non-palindrome numbers in the list and `None` for non-integer elements.\n",
    "        \n",
    "        \n",
    "\n",
    "        \n",
    "\n",
    "Required Signature:\n",
    "\n",
    "    def palindrome_numbers1(input_list):  \n",
    "        pass  \n",
    "\n",
    "For example,   \n",
    "`palindrome_numbers1([121,123])` would return `[True, False]`  \n",
    "`palindrome_numbers1(['a',123)` would return `[None, False]`  \n",
    "`palindrome_numbers1([])` would return `[]`  \n",
    "`palindrome_numbers1(['121'])` would return `[None]` \n",
    "\n",
    "\n"
   ]
  },
  {
   "cell_type": "code",
   "execution_count": null,
   "id": "e9a9c23a",
   "metadata": {},
   "outputs": [],
   "source": [
    "# submit (DO NOT REMOVE THESE COMMENTS. REPLACE THE PASS STATEMENT WITH YOUR SOLUTION)\n",
    "# ------------------------------------------------------------------------------\n",
    "def palindrome_numbers1(input_list):  \n",
    "    pass  \n",
    "\n",
    "\n",
    "\n",
    "\n"
   ]
  },
  {
   "cell_type": "markdown",
   "id": "3d70ae29",
   "metadata": {},
   "source": [
    "\n",
    "> <span style='color: #0072B2'>**Note**</span>  \n",
    "> You can use the space below (create additional cells as necessary) to work out your solution. These won't be marked.\n"
   ]
  },
  {
   "cell_type": "code",
   "execution_count": null,
   "id": "77c62f44",
   "metadata": {},
   "outputs": [],
   "source": [
    "\n",
    "\n",
    "\n",
    "\n"
   ]
  },
  {
   "cell_type": "markdown",
   "id": "4ac96b0f",
   "metadata": {},
   "source": [
    "4. Tuples To Dict\n",
    "-------------------------------\n",
    "Write a function that takes in two tuples, `keys_tuple` and `values_tuple` and returns a dictionary in which \n",
    "the elements of `keys_tuple` are used as keys, and the corresponding elements of `values_tuple` are used as the values. (4 marks)\n",
    "\n",
    "For one further mark, ensure that if two or more elements in `keys_tuple` are the same, \n",
    "then it is the first element (and its corresponding element in `values_tuple`) that is used in the \n",
    "dictionary. \n",
    "\n",
    "\n",
    "\n",
    "Required Signature:\n",
    "\n",
    "    def tuples_to_dict(keys_tuple, values_tuple):  \n",
    "        pass  \n",
    "\n",
    "for example, calling `tuples_to_dict(('a','b', 'c'), (1,2,3))` \n",
    " will return `{'a':1, 'b':2, 'c':3}` (4 marks)\n",
    "\n",
    "for example, calling `tuples_to_dict(('a','b', 'c', 'a'), (1,2,3,4))` \n",
    " will return `{'a':1, 'b':2, 'c':3}` (1 mark)\n",
    "\n"
   ]
  },
  {
   "cell_type": "code",
   "execution_count": null,
   "id": "d90b21fa",
   "metadata": {},
   "outputs": [],
   "source": [
    "# submit (DO NOT REMOVE THESE COMMENTS. REPLACE THE PASS STATEMENT WITH YOUR SOLUTION)\n",
    "# ------------------------------------------------------------------------------\n",
    "def tuples_to_dict(keys_tuple, values_tuple):  \n",
    "    pass  \n",
    "\n",
    "\n",
    "\n",
    "\n"
   ]
  },
  {
   "cell_type": "markdown",
   "id": "42e2300d",
   "metadata": {},
   "source": [
    "\n",
    "> <span style='color: #0072B2'>**Note**</span>  \n",
    "> You can use the space below (create additional cells as necessary) to work out your solution. These won't be marked.\n"
   ]
  },
  {
   "cell_type": "code",
   "execution_count": null,
   "id": "8b480bf7",
   "metadata": {},
   "outputs": [],
   "source": [
    "\n",
    "\n",
    "\n",
    "\n"
   ]
  },
  {
   "cell_type": "markdown",
   "id": "50fdae6f",
   "metadata": {},
   "source": [
    "5. Interests In Common\n",
    "-------------------------------\n",
    "Alice, Bob and Charlie have provided lists of their interests. Each interest is a lower-case string.\n",
    "Write a function that takes in these three lists, and returns a list of the interests they have in common. \n",
    "\n",
    "**If there are no interests in common or the lists of interests are all empty, an empty list is returned.**\n",
    "\n",
    "\n",
    "Required Signature:\n",
    "\n",
    "    def interests_in_common(alice_interests, bob_interests, charlie_interests):  \n",
    "        pass  \n",
    "\n",
    "\n",
    "For example, if \n",
    "```\n",
    "a = ['hunting', 'shooting', 'fishing']\n",
    "b = ['sewing', 'fishing', 'hunting']\n",
    "c = ['fishing', 'knitting', 'sewing']\n",
    "```\n",
    "then calling `interests_in_common(a, b, c)` \n",
    " will return `['fishing']`\"\n",
    "\n",
    "\n"
   ]
  },
  {
   "cell_type": "code",
   "execution_count": null,
   "id": "33e0363a",
   "metadata": {},
   "outputs": [],
   "source": [
    "# submit (DO NOT REMOVE THESE COMMENTS. REPLACE THE PASS STATEMENT WITH YOUR SOLUTION)\n",
    "# ------------------------------------------------------------------------------\n",
    "def interests_in_common(alice_interests, bob_interests, charlie_interests):  \n",
    "    pass  \n",
    "\n",
    "\n",
    "\n",
    "\n"
   ]
  },
  {
   "cell_type": "markdown",
   "id": "d7149e58",
   "metadata": {},
   "source": [
    "\n",
    "> <span style='color: #0072B2'>**Note**</span>  \n",
    "> You can use the space below (create additional cells as necessary) to work out your solution. These won't be marked.\n"
   ]
  },
  {
   "cell_type": "code",
   "execution_count": null,
   "id": "27a83cbd",
   "metadata": {},
   "outputs": [],
   "source": [
    "\n",
    "\n",
    "\n",
    "\n"
   ]
  },
  {
   "cell_type": "markdown",
   "id": "0ca5ad83",
   "metadata": {},
   "source": [
    "6. Name Processing (5)\n",
    "-------------------------------\n",
    "Write a function that accepts an input argument list of `full_name` strings, \n",
    "each string consisting of a first name, optional middle name, and surname, separated by spaces. \n",
    "\n",
    "The function should return a list containing these same names, but with the surname written first, \n",
    "followed by a comma, then the first name. If a middle name is present, append only its first letter, \n",
    "followed by full-stop (4 marks).\n",
    "\n",
    "For one extra mark, ensure that the function works with more than one middle name, i.e. each middle name is \n",
    "replaced by its first initial and a full stop. \n",
    "\n",
    "\n",
    "Required Signature:\n",
    "\n",
    "    def name_processing5(list_of_names):  \n",
    "        pass  \n",
    "\n",
    "\n",
    "for example, using the following list as input:\n",
    "\n",
    "`['James Bond', 'Zadie Smith', 'Arthur Conon Boyle']`\n",
    "\n",
    "the function would return:\n",
    "\n",
    "`['Bond, James', 'Smith, Zadie', 'Boyle, Arthur C.']` (4 marks)\n",
    "\n",
    "using the following list as input:\n",
    "\n",
    "`['Zadie Smith', 'Arthur Conon Boyle', 'Albus Percival Wulfric Brian Dumbledore']`\n",
    "\n",
    "the function would return:\n",
    "\n",
    "`['Smith, Zadie', 'Boyle, Arthur C.', 'Dumbledore, Albus P. W. C.']` (1 mark)\n",
    "\n",
    "\n"
   ]
  },
  {
   "cell_type": "code",
   "execution_count": null,
   "id": "30826369",
   "metadata": {},
   "outputs": [],
   "source": [
    "# submit (DO NOT REMOVE THESE COMMENTS. REPLACE THE PASS STATEMENT WITH YOUR SOLUTION)\n",
    "# ------------------------------------------------------------------------------\n",
    "def name_processing5(list_of_names):  \n",
    "    pass  \n",
    "\n",
    "\n",
    "\n",
    "\n"
   ]
  },
  {
   "cell_type": "markdown",
   "id": "13f60f5e",
   "metadata": {},
   "source": [
    "\n",
    "> <span style='color: #0072B2'>**Note**</span>  \n",
    "> You can use the space below (create additional cells as necessary) to work out your solution. These won't be marked.\n"
   ]
  },
  {
   "cell_type": "code",
   "execution_count": null,
   "id": "b53dc225",
   "metadata": {},
   "outputs": [],
   "source": [
    "\n",
    "\n",
    "\n",
    "\n"
   ]
  },
  {
   "cell_type": "markdown",
   "id": "1e98255a",
   "metadata": {},
   "source": [
    "7. Logger\n",
    "-------------------------------\n",
    "Write a mock logging class called MyLogger.\n",
    "\n",
    "The MyLogger class is initialized with a `disk_space` argument which is an\n",
    "integer. When initialized, `disk_remaining` should be set to the value of\n",
    "`disk_space`, i.e. it is assumed that none of the disk has been used at this point.\n",
    "\n",
    "Instance attributes:\n",
    "- `disk_space` (int)\n",
    "- `disk_remaining` (int)\n",
    "\n",
    "The class shall also implement three methods:\n",
    "\n",
    "Methods:\n",
    "- `disk_full`: Returns `True` if disk remaining is 0, otherwise `False`.\n",
    "- `log_to_file`: If the disk is not full, decrement disk_remaining by 1 unit and\n",
    "    return the string \"Successfully logged\".\n",
    "    Otherwise (if the disk is full), return the string \"Disk full\"\n",
    "- `delete_logs`: Set disk_remaining to disk_space and return the string \n",
    "    \"Logs deleted\".\n",
    "\n",
    "\n",
    "\n",
    "Required Signature:\n",
    "\n",
    "    class MyLogger:  \n",
    "        pass  \n",
    "\n",
    "\n",
    "Example usage:\n",
    "\n",
    "```\n",
    "logger = MyLogger(1) # initializes a logger with 1 unit of disk space.\n",
    "logger.log_to_file() # writes one log to file. Disk remaining should be 0. Returns 'Successfully logged'\n",
    "logger.log_to_file() # fails to write log to file because disk is full. Returns 'Disk full'\n",
    "logger.delete_logs() # deletes logs, so disk_remaining should reset back to 1. Returns 'Logs deleted'\n",
    "\n",
    "```\n",
    "The above three method calls should return strings `'Successfully logged'`, `'Disk full'` and `'Logs deleted'`.\n",
    "**Return only these three strings as is and no additional information from these methods.**\n",
    "\n",
    "\n",
    "\n"
   ]
  },
  {
   "cell_type": "code",
   "execution_count": null,
   "id": "2c2d0bb1",
   "metadata": {},
   "outputs": [],
   "source": [
    "# submit (DO NOT REMOVE THESE COMMENTS. REPLACE THE PASS STATEMENT WITH YOUR SOLUTION)\n",
    "# ------------------------------------------------------------------------------\n",
    "class MyLogger:  \n",
    "    pass  \n",
    "\n",
    "\n",
    "\n",
    "\n"
   ]
  },
  {
   "cell_type": "markdown",
   "id": "08ddcea8",
   "metadata": {},
   "source": [
    "\n",
    "> <span style='color: #0072B2'>**Note**</span>  \n",
    "> You can use the space below (create additional cells as necessary) to work out your solution. These won't be marked.\n"
   ]
  },
  {
   "cell_type": "code",
   "execution_count": null,
   "id": "523071e6",
   "metadata": {},
   "outputs": [],
   "source": [
    "\n",
    "\n",
    "\n",
    "\n"
   ]
  },
  {
   "cell_type": "markdown",
   "id": "814fc921",
   "metadata": {},
   "source": [
    "8. Dataframe Combine (3)\n",
    "-------------------------------\n",
    "Both `input_df1` and `input_df2` store customer details. \n",
    "Assume `input_df1` has columns including `'name'` and `'email'`, \n",
    "and `input_df2` has columns including `'customer_id'` and `'email'`.\n",
    "\n",
    "Write a function that combines these two dataframes, and outputs a dataframe containing \n",
    "all three of the above attributes, for those customers who are included in both dataframes. \n",
    "\n",
    "\n",
    "\n",
    "Required Signature:\n",
    "\n",
    "    def dataframe_combine3(input_df1, input_df2):  \n",
    "        pass  \n",
    "\n",
    "\n",
    "For example, if `df1 = pd.DataFrame({'name': ['Alice', 'Bob'], 'email': ['alice@wherever.com', 'bob@somewhere.com']})`:\n",
    "\n",
    "| |         name | email |\n",
    "|---|---|---|\n",
    "|0 | Alice  |    alice@whereever.com |\n",
    "|1 | Bob  |    bob@somewhere.com |\n",
    "\n",
    "\n",
    "And `df2 = pd.DataFrame({'email': ['bob@somewhere.com', 'charlie@mail.com'], 'customer_id': ['bob123', 'charlie456'], 'other data': ['Gold', 'Silver']})`:\n",
    "\n",
    "|   |      email | customer_id | other data\n",
    "|---|---|---|---|\n",
    "| 0 |  bob@somewhere.com | bob123 | Gold\n",
    "| 1  | charlie@mail.com  |   charlie456 | Silver\n",
    "\n",
    "\n",
    "Then this would be the expected output:\n",
    "\n",
    "|   |  name     |         email | customer_id | other data\n",
    "|---|---|---|---|---|\n",
    "| 0 |  Bob |  bob@somewhere.com  |    bob123  |   Gold\n",
    "\n",
    "\n"
   ]
  },
  {
   "cell_type": "code",
   "execution_count": null,
   "id": "5df18a68",
   "metadata": {},
   "outputs": [],
   "source": [
    "# submit (DO NOT REMOVE THESE COMMENTS. REPLACE THE PASS STATEMENT WITH YOUR SOLUTION)\n",
    "# ------------------------------------------------------------------------------\n",
    "def dataframe_combine3(input_df1, input_df2):  \n",
    "    pass  \n",
    "\n",
    "\n",
    "\n",
    "\n"
   ]
  },
  {
   "cell_type": "markdown",
   "id": "4449597a",
   "metadata": {},
   "source": [
    "\n",
    "> <span style='color: #0072B2'>**Note**</span>  \n",
    "> You can use the space below (create additional cells as necessary) to work out your solution. These won't be marked.\n"
   ]
  },
  {
   "cell_type": "code",
   "execution_count": null,
   "id": "e3cf953d",
   "metadata": {},
   "outputs": [],
   "source": [
    "\n",
    "\n",
    "\n",
    "\n"
   ]
  },
  {
   "cell_type": "markdown",
   "id": "43ba33e0",
   "metadata": {},
   "source": [
    "9. DataFrame Selector (3)\n",
    "-------------------------------\n",
    "Write a function that accepts a single input argument `input_df` (a DataFrame), \n",
    "and returns a DataFrame that contains only the first two rows of `input_df`, \n",
    "and only those columns of `input_df` that have a column-name beginning with the lower-case character `'x'`. \n",
    "\n",
    "\n",
    "\n",
    "Required Signature:\n",
    "\n",
    "    def dataframe_selector3(input_df):  \n",
    "        pass  \n",
    "\n",
    "Example:\n",
    "If the input dataframe is `input_df = pd.DataFrame({'x': [1,2,3], 'xy': [10,20,30], 'y': [100,200,300]})`:\n",
    "\n",
    "|   | x |   xy  |   y | \n",
    "| --- | --- | --- | --- | \n",
    "| 0 | 1 |  10 |  100 | \n",
    "| 1 |  2 |  20 |  200 | \n",
    "| 2 |  3  | 30 |  300 | \n",
    "\n",
    "Calling `dataframe_selector3(input_df)` will return the following dataframe:\n",
    "\n",
    "|  |   x |    xy | \n",
    "| --- | --- | --- | \n",
    "| 0 |  1 |  10 | \n",
    "| 1 |  2 |  20 | \n",
    " "
   ]
  },
  {
   "cell_type": "code",
   "execution_count": null,
   "id": "5f01b818",
   "metadata": {},
   "outputs": [],
   "source": [
    "# submit (DO NOT REMOVE THESE COMMENTS. REPLACE THE PASS STATEMENT WITH YOUR SOLUTION)\n",
    "# ------------------------------------------------------------------------------\n",
    "def dataframe_selector3(input_df):  \n",
    "    pass  \n",
    "\n",
    "\n",
    "\n",
    "\n"
   ]
  },
  {
   "cell_type": "markdown",
   "id": "cc7ad29e",
   "metadata": {},
   "source": [
    "\n",
    "> <span style='color: #0072B2'>**Note**</span>  \n",
    "> You can use the space below (create additional cells as necessary) to work out your solution. These won't be marked.\n"
   ]
  },
  {
   "cell_type": "code",
   "execution_count": null,
   "id": "21cb53ea",
   "metadata": {},
   "outputs": [],
   "source": [
    "\n",
    "\n",
    "\n",
    "\n"
   ]
  },
  {
   "cell_type": "markdown",
   "id": "7c695ed6",
   "metadata": {},
   "source": [
    "10. Dataframe Process Data (3)\n",
    "-------------------------------\n",
    "Given an input dataframe in which each row holds students' marks for some questions, e.g.\n",
    "\n",
    "|  | student | question   |    topic | mark |\n",
    "| --- | --- | --- | --- | --- |\n",
    "| 0    | Alice | multiply | arithmetic  |   6 |\n",
    "| 1 |   Bob   | multiply  | arithmetic  |   3 |\n",
    "| 2 |  Alice  |  divide | arithmetic  |   5 |\n",
    "| 3 |    Bob  |  divide | arithmetic  |   4 |\n",
    "| 4 |  Alice  |  angles |   geometry  |  10 |\n",
    "| 5  |   Bob  |  angles |   geometry  |   5 |\n",
    "\n",
    "Write a function to calculate the mean mark for each topic, and return this in a dictionary.\n",
    "\n",
    "Required Signature:\n",
    "\n",
    "    def dataframe_process_data3(input_df):  \n",
    "        pass  \n",
    "\n",
    " For example, for the following input:\n",
    "```\n",
    "pd.DataFrame({'student':['Alice', 'Bob', 'Alice', 'Bob', 'Alice', 'Bob'], \n",
    "            'question':['multiply', 'multiply', 'divide', 'divide', 'angles','angles'],\n",
    "            'topic':['arithmetic', 'arithmetic', 'arithmetic', 'arithmetic', 'geometry','geometry'],\n",
    "            'mark':[10,20,30,40,50,60]})\n",
    "```            \n",
    "this is the expected output:\n",
    "\n",
    "`{'arithmetic': 25.0, 'geometry': 55.0}`\n",
    "\n",
    "Note: Your output can return the mean marks as either ints or floats. \n",
    "\n",
    "\n"
   ]
  },
  {
   "cell_type": "code",
   "execution_count": null,
   "id": "d7f16414",
   "metadata": {},
   "outputs": [],
   "source": [
    "# submit (DO NOT REMOVE THESE COMMENTS. REPLACE THE PASS STATEMENT WITH YOUR SOLUTION)\n",
    "# ------------------------------------------------------------------------------\n",
    "def dataframe_process_data3(input_df):  \n",
    "    pass  \n",
    "\n",
    "\n",
    "\n",
    "\n"
   ]
  },
  {
   "cell_type": "markdown",
   "id": "ef9af734",
   "metadata": {},
   "source": [
    "\n",
    "> <span style='color: #0072B2'>**Note**</span>  \n",
    "> You can use the space below (create additional cells as necessary) to work out your solution. These won't be marked.\n"
   ]
  },
  {
   "cell_type": "code",
   "execution_count": null,
   "id": "5252ecb4",
   "metadata": {},
   "outputs": [],
   "source": [
    "\n",
    "\n",
    "\n",
    "\n"
   ]
  },
  {
   "cell_type": "markdown",
   "id": "7c8a5238",
   "metadata": {},
   "source": [
    "11. Get Air Quality Parameters\n",
    "-------------------------------\n",
    "\n",
    "Write a function to return a set of the air quality parameter names for which measurements are available. \n",
    "(Example parameter names are `'pm25'` and `'co2'`).\n",
    "The input_argument `core_only` should by default be `False` \n",
    "(meaning: return *all* core and non-core parameter names); \n",
    "if this is set to `True`, then only the 'core' parameters should be returned. \n",
    "For more details see the documentation \n",
    "`https://api.openaq.org/#/v2/parameters_get_v2_parameters_get`\n",
    "\n",
    "\n",
    "Required Signature:\n",
    "\n",
    "    def get_air_quality_parameters(url, core_only=False):  \n",
    "        pass  \n",
    "\n",
    "For example, when this function was called on 18th November 2022, \n",
    "it returned a set of 16 strings including both core parameters such as `'co'` and `'o3'`\n",
    "as well as non-core parameters such as `'no'` and `'ufp'` (using `core_only=False`) \n",
    "Using `core_only = True`, the function returned a set of 7 core parameters such as `'pm25'` and `'o3'`.\n",
    "\n",
    "\n",
    "\n"
   ]
  },
  {
   "cell_type": "code",
   "execution_count": null,
   "id": "ddfeec97",
   "metadata": {},
   "outputs": [],
   "source": [
    "# submit (DO NOT REMOVE THESE COMMENTS. REPLACE THE PASS STATEMENT WITH YOUR SOLUTION)\n",
    "# ------------------------------------------------------------------------------\n",
    "def get_air_quality_parameters(url, core_only=False):  \n",
    "    pass  \n",
    "\n",
    "\n",
    "\n",
    "\n"
   ]
  },
  {
   "cell_type": "markdown",
   "id": "4d88a381",
   "metadata": {},
   "source": [
    "\n",
    "> <span style='color: #0072B2'>**Note**</span>  \n",
    "> You can use the space below (create additional cells as necessary) to work out your solution. These won't be marked.\n"
   ]
  },
  {
   "cell_type": "code",
   "execution_count": null,
   "id": "ef2d86f6",
   "metadata": {},
   "outputs": [],
   "source": [
    "\n",
    "\n",
    "\n",
    "\n"
   ]
  }
 ],
 "metadata": {
  "kernelspec": {
   "display_name": "Python 3.8.13 ('mle05_env')",
   "language": "python",
   "name": "python3"
  },
  "language_info": {
   "codemirror_mode": {
    "name": "ipython",
    "version": 3
   },
   "file_extension": ".py",
   "mimetype": "text/x-python",
   "name": "python",
   "nbconvert_exporter": "python",
   "pygments_lexer": "ipython3",
   "version": "3.8.13"
  },
  "vscode": {
   "interpreter": {
    "hash": "9b132096e5375ccc5395b1a767fb9f363e1373ec3aa852d61f7f89bdbafc8547"
   }
  }
 },
 "nbformat": 4,
 "nbformat_minor": 5
}
